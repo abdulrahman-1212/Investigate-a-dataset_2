{
 "cells": [
  {
   "cell_type": "markdown",
   "metadata": {
    "slideshow": {
     "slide_type": "slide"
    }
   },
   "source": [
    "# Dataset Overview\n",
    "This is a dataset for death counts in a state in US. This dataset counts the death cases for each disease from 2014 to 2019."
   ]
  },
  {
   "cell_type": "code",
   "execution_count": 32,
   "metadata": {
    "slideshow": {
     "slide_type": "skip"
    }
   },
   "outputs": [],
   "source": [
    "#importing libraries\n",
    "import pandas as pd\n",
    "import numpy as np\n",
    "import matplotlib.pyplot as plt\n",
    "%matplotlib inline"
   ]
  },
  {
   "cell_type": "code",
   "execution_count": 33,
   "metadata": {
    "slideshow": {
     "slide_type": "skip"
    }
   },
   "outputs": [
    {
     "data": {
      "text/html": [
       "<div>\n",
       "<style scoped>\n",
       "    .dataframe tbody tr th:only-of-type {\n",
       "        vertical-align: middle;\n",
       "    }\n",
       "\n",
       "    .dataframe tbody tr th {\n",
       "        vertical-align: top;\n",
       "    }\n",
       "\n",
       "    .dataframe thead th {\n",
       "        text-align: right;\n",
       "    }\n",
       "</style>\n",
       "<table border=\"1\" class=\"dataframe\">\n",
       "  <thead>\n",
       "    <tr style=\"text-align: right;\">\n",
       "      <th></th>\n",
       "      <th>Jurisdiction of Occurrence</th>\n",
       "      <th>Year</th>\n",
       "      <th>Month</th>\n",
       "      <th>All Cause</th>\n",
       "      <th>Natural Cause</th>\n",
       "      <th>Septicemia</th>\n",
       "      <th>Malignant Neoplasms</th>\n",
       "      <th>Diabetes Mellitus</th>\n",
       "      <th>Alzheimer Disease</th>\n",
       "      <th>Influenza and Pneumonia</th>\n",
       "      <th>...</th>\n",
       "      <th>Other Diseases of Respiratory System</th>\n",
       "      <th>Nephritis, Nephrotic Syndrome, and Nephrosis</th>\n",
       "      <th>Symptoms, Signs, and Abnormal Clinical and Laboratory Findings, Not Elsewhere Classified</th>\n",
       "      <th>Diseases of Heart</th>\n",
       "      <th>Cerebrovascular Diseases</th>\n",
       "      <th>Accidents (Unintentional Injuries)</th>\n",
       "      <th>Motor Vehicle Accidents</th>\n",
       "      <th>Intentional Self-Harm (Suicide)</th>\n",
       "      <th>Assault (Homicide)</th>\n",
       "      <th>Drug Overdose</th>\n",
       "    </tr>\n",
       "  </thead>\n",
       "  <tbody>\n",
       "    <tr>\n",
       "      <th>0</th>\n",
       "      <td>United States</td>\n",
       "      <td>2014</td>\n",
       "      <td>1</td>\n",
       "      <td>243298</td>\n",
       "      <td>226621</td>\n",
       "      <td>3944</td>\n",
       "      <td>51101</td>\n",
       "      <td>7344</td>\n",
       "      <td>8305</td>\n",
       "      <td>7929</td>\n",
       "      <td>...</td>\n",
       "      <td>3466</td>\n",
       "      <td>4600</td>\n",
       "      <td>2815</td>\n",
       "      <td>58229</td>\n",
       "      <td>12074</td>\n",
       "      <td>11461</td>\n",
       "      <td>2572</td>\n",
       "      <td>3320</td>\n",
       "      <td>1213</td>\n",
       "      <td>4026</td>\n",
       "    </tr>\n",
       "    <tr>\n",
       "      <th>1</th>\n",
       "      <td>United States</td>\n",
       "      <td>2015</td>\n",
       "      <td>1</td>\n",
       "      <td>265355</td>\n",
       "      <td>247269</td>\n",
       "      <td>4194</td>\n",
       "      <td>52346</td>\n",
       "      <td>8053</td>\n",
       "      <td>11638</td>\n",
       "      <td>10005</td>\n",
       "      <td>...</td>\n",
       "      <td>3797</td>\n",
       "      <td>4979</td>\n",
       "      <td>3005</td>\n",
       "      <td>63190</td>\n",
       "      <td>13576</td>\n",
       "      <td>12311</td>\n",
       "      <td>2754</td>\n",
       "      <td>3618</td>\n",
       "      <td>1437</td>\n",
       "      <td>4354</td>\n",
       "    </tr>\n",
       "    <tr>\n",
       "      <th>2</th>\n",
       "      <td>United States</td>\n",
       "      <td>2016</td>\n",
       "      <td>1</td>\n",
       "      <td>245823</td>\n",
       "      <td>227341</td>\n",
       "      <td>3846</td>\n",
       "      <td>51863</td>\n",
       "      <td>7392</td>\n",
       "      <td>10612</td>\n",
       "      <td>5295</td>\n",
       "      <td>...</td>\n",
       "      <td>3705</td>\n",
       "      <td>4645</td>\n",
       "      <td>2755</td>\n",
       "      <td>58049</td>\n",
       "      <td>12968</td>\n",
       "      <td>12559</td>\n",
       "      <td>2734</td>\n",
       "      <td>3720</td>\n",
       "      <td>1499</td>\n",
       "      <td>4631</td>\n",
       "    </tr>\n",
       "    <tr>\n",
       "      <th>3</th>\n",
       "      <td>United States</td>\n",
       "      <td>2017</td>\n",
       "      <td>1</td>\n",
       "      <td>262832</td>\n",
       "      <td>241918</td>\n",
       "      <td>4089</td>\n",
       "      <td>52120</td>\n",
       "      <td>7907</td>\n",
       "      <td>12018</td>\n",
       "      <td>6925</td>\n",
       "      <td>...</td>\n",
       "      <td>4083</td>\n",
       "      <td>4818</td>\n",
       "      <td>2769</td>\n",
       "      <td>61650</td>\n",
       "      <td>13595</td>\n",
       "      <td>14520</td>\n",
       "      <td>3034</td>\n",
       "      <td>3709</td>\n",
       "      <td>1726</td>\n",
       "      <td>6233</td>\n",
       "    </tr>\n",
       "    <tr>\n",
       "      <th>4</th>\n",
       "      <td>United States</td>\n",
       "      <td>2018</td>\n",
       "      <td>1</td>\n",
       "      <td>286744</td>\n",
       "      <td>265418</td>\n",
       "      <td>4502</td>\n",
       "      <td>52876</td>\n",
       "      <td>8674</td>\n",
       "      <td>13410</td>\n",
       "      <td>12164</td>\n",
       "      <td>...</td>\n",
       "      <td>4603</td>\n",
       "      <td>5346</td>\n",
       "      <td>3138</td>\n",
       "      <td>67024</td>\n",
       "      <td>14653</td>\n",
       "      <td>14748</td>\n",
       "      <td>3010</td>\n",
       "      <td>3966</td>\n",
       "      <td>1674</td>\n",
       "      <td>5659</td>\n",
       "    </tr>\n",
       "  </tbody>\n",
       "</table>\n",
       "<p>5 rows × 21 columns</p>\n",
       "</div>"
      ],
      "text/plain": [
       "  Jurisdiction of Occurrence  Year  Month  All Cause  Natural Cause  \\\n",
       "0              United States  2014      1     243298         226621   \n",
       "1              United States  2015      1     265355         247269   \n",
       "2              United States  2016      1     245823         227341   \n",
       "3              United States  2017      1     262832         241918   \n",
       "4              United States  2018      1     286744         265418   \n",
       "\n",
       "   Septicemia  Malignant Neoplasms  Diabetes Mellitus  Alzheimer Disease  \\\n",
       "0        3944                51101               7344               8305   \n",
       "1        4194                52346               8053              11638   \n",
       "2        3846                51863               7392              10612   \n",
       "3        4089                52120               7907              12018   \n",
       "4        4502                52876               8674              13410   \n",
       "\n",
       "   Influenza and Pneumonia  ...  Other Diseases of Respiratory System  \\\n",
       "0                     7929  ...                                  3466   \n",
       "1                    10005  ...                                  3797   \n",
       "2                     5295  ...                                  3705   \n",
       "3                     6925  ...                                  4083   \n",
       "4                    12164  ...                                  4603   \n",
       "\n",
       "   Nephritis, Nephrotic Syndrome, and Nephrosis  \\\n",
       "0                                          4600   \n",
       "1                                          4979   \n",
       "2                                          4645   \n",
       "3                                          4818   \n",
       "4                                          5346   \n",
       "\n",
       "   Symptoms, Signs, and Abnormal Clinical and Laboratory Findings, Not Elsewhere Classified  \\\n",
       "0                                               2815                                          \n",
       "1                                               3005                                          \n",
       "2                                               2755                                          \n",
       "3                                               2769                                          \n",
       "4                                               3138                                          \n",
       "\n",
       "   Diseases of Heart  Cerebrovascular Diseases  \\\n",
       "0              58229                     12074   \n",
       "1              63190                     13576   \n",
       "2              58049                     12968   \n",
       "3              61650                     13595   \n",
       "4              67024                     14653   \n",
       "\n",
       "   Accidents (Unintentional Injuries)  Motor Vehicle Accidents  \\\n",
       "0                               11461                     2572   \n",
       "1                               12311                     2754   \n",
       "2                               12559                     2734   \n",
       "3                               14520                     3034   \n",
       "4                               14748                     3010   \n",
       "\n",
       "   Intentional Self-Harm (Suicide)  Assault (Homicide)  Drug Overdose  \n",
       "0                             3320                1213           4026  \n",
       "1                             3618                1437           4354  \n",
       "2                             3720                1499           4631  \n",
       "3                             3709                1726           6233  \n",
       "4                             3966                1674           5659  \n",
       "\n",
       "[5 rows x 21 columns]"
      ]
     },
     "execution_count": 33,
     "metadata": {},
     "output_type": "execute_result"
    }
   ],
   "source": [
    "\n",
    "import os, types\n",
    "import pandas as pd\n",
    "from botocore.client import Config\n",
    "import ibm_boto3\n",
    "\n",
    "def __iter__(self): return 0\n",
    "\n",
    "# @hidden_cell\n",
    "# The following code accesses a file in your IBM Cloud Object Storage. It includes your credentials.\n",
    "# You might want to remove those credentials before you share the notebook.\n",
    "\n",
    "if os.environ.get('RUNTIME_ENV_LOCATION_TYPE') == 'external':\n",
    "    endpoint_2ba5da452624483ab31e58a1e1af5108 = 'https://s3.eu.cloud-object-storage.appdomain.cloud'\n",
    "else:\n",
    "    endpoint_2ba5da452624483ab31e58a1e1af5108 = 'https://s3.private.eu.cloud-object-storage.appdomain.cloud'\n",
    "\n",
    "client_2ba5da452624483ab31e58a1e1af5108 = ibm_boto3.client(service_name='s3',\n",
    "    ibm_api_key_id='LZdHfZ1lTirTedGM6EJZPbBms6k3cw0rh2NjXw9MGOQ_',\n",
    "    ibm_auth_endpoint=\"https://iam.cloud.ibm.com/oidc/token\",\n",
    "    config=Config(signature_version='oauth'),\n",
    "    endpoint_url=endpoint_2ba5da452624483ab31e58a1e1af5108)\n",
    "\n",
    "body = client_2ba5da452624483ab31e58a1e1af5108.get_object(Bucket='ibmcontest-donotdelete-pr-jiktskkwbuzrqv',Key='all_death.csv')['Body']\n",
    "# add missing __iter__ method, so pandas accepts body as file-like object\n",
    "if not hasattr(body, \"__iter__\"): body.__iter__ = types.MethodType( __iter__, body )\n",
    "\n",
    "df = pd.read_csv(body)\n",
    "df.head()\n"
   ]
  },
  {
   "cell_type": "markdown",
   "metadata": {
    "slideshow": {
     "slide_type": "skip"
    }
   },
   "source": [
    "# Cleaning Data"
   ]
  },
  {
   "cell_type": "code",
   "execution_count": 34,
   "metadata": {
    "slideshow": {
     "slide_type": "skip"
    }
   },
   "outputs": [
    {
     "name": "stdout",
     "output_type": "stream",
     "text": [
      "<class 'pandas.core.frame.DataFrame'>\n",
      "RangeIndex: 72 entries, 0 to 71\n",
      "Data columns (total 21 columns):\n",
      " #   Column                                                                                    Non-Null Count  Dtype \n",
      "---  ------                                                                                    --------------  ----- \n",
      " 0   Jurisdiction of Occurrence                                                                72 non-null     object\n",
      " 1   Year                                                                                      72 non-null     int64 \n",
      " 2   Month                                                                                     72 non-null     int64 \n",
      " 3   All Cause                                                                                 72 non-null     int64 \n",
      " 4   Natural Cause                                                                             72 non-null     int64 \n",
      " 5   Septicemia                                                                                72 non-null     int64 \n",
      " 6   Malignant Neoplasms                                                                       72 non-null     int64 \n",
      " 7   Diabetes Mellitus                                                                         72 non-null     int64 \n",
      " 8   Alzheimer Disease                                                                         72 non-null     int64 \n",
      " 9   Influenza and Pneumonia                                                                   72 non-null     int64 \n",
      " 10  Chronic Lower Respiratory Diseases                                                        72 non-null     int64 \n",
      " 11  Other Diseases of Respiratory System                                                      72 non-null     int64 \n",
      " 12  Nephritis, Nephrotic Syndrome, and Nephrosis                                              72 non-null     int64 \n",
      " 13  Symptoms, Signs, and Abnormal Clinical and Laboratory Findings, Not Elsewhere Classified  72 non-null     int64 \n",
      " 14  Diseases of Heart                                                                         72 non-null     int64 \n",
      " 15  Cerebrovascular Diseases                                                                  72 non-null     int64 \n",
      " 16  Accidents (Unintentional Injuries)                                                        72 non-null     int64 \n",
      " 17  Motor Vehicle Accidents                                                                   72 non-null     int64 \n",
      " 18  Intentional Self-Harm (Suicide)                                                           72 non-null     int64 \n",
      " 19  Assault (Homicide)                                                                        72 non-null     int64 \n",
      " 20  Drug Overdose                                                                             72 non-null     int64 \n",
      "dtypes: int64(20), object(1)\n",
      "memory usage: 11.9+ KB\n"
     ]
    }
   ],
   "source": [
    "df.info()"
   ]
  },
  {
   "cell_type": "markdown",
   "metadata": {
    "slideshow": {
     "slide_type": "skip"
    }
   },
   "source": [
    "## There is no null values in the dataset"
   ]
  },
  {
   "cell_type": "code",
   "execution_count": 35,
   "metadata": {
    "slideshow": {
     "slide_type": "skip"
    }
   },
   "outputs": [
    {
     "data": {
      "text/plain": [
       "0     False\n",
       "1     False\n",
       "2     False\n",
       "3     False\n",
       "4     False\n",
       "      ...  \n",
       "67    False\n",
       "68    False\n",
       "69    False\n",
       "70    False\n",
       "71    False\n",
       "Length: 72, dtype: bool"
      ]
     },
     "execution_count": 35,
     "metadata": {},
     "output_type": "execute_result"
    }
   ],
   "source": [
    "\n",
    "df.duplicated()"
   ]
  },
  {
   "cell_type": "markdown",
   "metadata": {
    "slideshow": {
     "slide_type": "skip"
    }
   },
   "source": [
    "## There is no duplicated rows"
   ]
  },
  {
   "cell_type": "code",
   "execution_count": 36,
   "metadata": {
    "slideshow": {
     "slide_type": "skip"
    }
   },
   "outputs": [
    {
     "data": {
      "text/plain": [
       "Jurisdiction of Occurrence                                                                  object\n",
       "Year                                                                                         int64\n",
       "Month                                                                                        int64\n",
       "All Cause                                                                                    int64\n",
       "Natural Cause                                                                                int64\n",
       "Septicemia                                                                                   int64\n",
       "Malignant Neoplasms                                                                          int64\n",
       "Diabetes Mellitus                                                                            int64\n",
       "Alzheimer Disease                                                                            int64\n",
       "Influenza and Pneumonia                                                                      int64\n",
       "Chronic Lower Respiratory Diseases                                                           int64\n",
       "Other Diseases of Respiratory System                                                         int64\n",
       "Nephritis, Nephrotic Syndrome, and Nephrosis                                                 int64\n",
       "Symptoms, Signs, and Abnormal Clinical and Laboratory Findings, Not Elsewhere Classified     int64\n",
       "Diseases of Heart                                                                            int64\n",
       "Cerebrovascular Diseases                                                                     int64\n",
       "Accidents (Unintentional Injuries)                                                           int64\n",
       "Motor Vehicle Accidents                                                                      int64\n",
       "Intentional Self-Harm (Suicide)                                                              int64\n",
       "Assault (Homicide)                                                                           int64\n",
       "Drug Overdose                                                                                int64\n",
       "dtype: object"
      ]
     },
     "execution_count": 36,
     "metadata": {},
     "output_type": "execute_result"
    }
   ],
   "source": [
    "# checking data types\n",
    "df.dtypes"
   ]
  },
  {
   "cell_type": "code",
   "execution_count": 37,
   "metadata": {
    "slideshow": {
     "slide_type": "skip"
    }
   },
   "outputs": [
    {
     "data": {
      "text/plain": [
       "(72, 21)"
      ]
     },
     "execution_count": 37,
     "metadata": {},
     "output_type": "execute_result"
    }
   ],
   "source": [
    "df.shape"
   ]
  },
  {
   "cell_type": "markdown",
   "metadata": {
    "slideshow": {
     "slide_type": "skip"
    }
   },
   "source": [
    "# Exploring Data"
   ]
  },
  {
   "cell_type": "code",
   "execution_count": 38,
   "metadata": {
    "slideshow": {
     "slide_type": "skip"
    }
   },
   "outputs": [
    {
     "data": {
      "text/plain": [
       "Index(['Jurisdiction of Occurrence', 'Year', 'Month', 'All Cause',\n",
       "       'Natural Cause', 'Septicemia', 'Malignant Neoplasms',\n",
       "       'Diabetes Mellitus', 'Alzheimer Disease', 'Influenza and Pneumonia',\n",
       "       'Chronic Lower Respiratory Diseases',\n",
       "       'Other Diseases of Respiratory System',\n",
       "       'Nephritis, Nephrotic Syndrome, and Nephrosis',\n",
       "       'Symptoms, Signs, and Abnormal Clinical and Laboratory Findings, Not Elsewhere Classified',\n",
       "       'Diseases of Heart', 'Cerebrovascular Diseases',\n",
       "       'Accidents (Unintentional Injuries)', 'Motor Vehicle Accidents',\n",
       "       'Intentional Self-Harm (Suicide)', 'Assault (Homicide)',\n",
       "       'Drug Overdose'],\n",
       "      dtype='object')"
      ]
     },
     "execution_count": 38,
     "metadata": {},
     "output_type": "execute_result"
    }
   ],
   "source": [
    "df.columns"
   ]
  },
  {
   "cell_type": "code",
   "execution_count": 39,
   "metadata": {
    "slideshow": {
     "slide_type": "skip"
    }
   },
   "outputs": [],
   "source": [
    "df.drop('Symptoms, Signs, and Abnormal Clinical and Laboratory Findings, Not Elsewhere Classified', axis=1, inplace=True)"
   ]
  },
  {
   "cell_type": "code",
   "execution_count": 63,
   "metadata": {
    "slideshow": {
     "slide_type": "skip"
    }
   },
   "outputs": [
    {
     "data": {
      "text/plain": [
       "[240397,\n",
       " 3583651,\n",
       " 492238,\n",
       " 685127,\n",
       " 328401,\n",
       " 933404,\n",
       " 243316,\n",
       " 301735,\n",
       " 3845329,\n",
       " 859766,\n",
       " 953976,\n",
       " 232224,\n",
       " 275012,\n",
       " 110508,\n",
       " 371325]"
      ]
     },
     "execution_count": 63,
     "metadata": {},
     "output_type": "execute_result"
    }
   ],
   "source": [
    "# finding the total death cases for each disease\n",
    "# We are not interested in those who died due to natural causes so I am going to exclude them\n",
    "\n",
    "sums = []\n",
    "columns = df.columns[5:20]\n",
    "for col in columns:\n",
    "    sums.append(df[col].sum())\n",
    "sums"
   ]
  },
  {
   "cell_type": "code",
   "execution_count": 64,
   "metadata": {
    "slideshow": {
     "slide_type": "slide"
    },
    "tags": [
     "to_remove"
    ]
   },
   "outputs": [
    {
     "data": {
      "text/plain": [
       "<AxesSubplot:xlabel='disease'>"
      ]
     },
     "execution_count": 64,
     "metadata": {},
     "output_type": "execute_result"
    },
    {
     "data": {
      "image/png": "[encoded data removed]",
      "text/plain": [
       "<Figure size 432x288 with 1 Axes>"
      ]
     },
     "metadata": {
      "needs_background": "light"
     },
     "output_type": "display_data"
    }
   ],
   "source": [
    "#bar chart to showcase the number of death cases for each disease\n",
    "\n",
    "disease_and_deaths_df = pd.DataFrame({'disease':columns, 'death':sums})\n",
    "\n",
    "disease_and_deaths_df.plot.bar(x = 'disease', y = 'death')"
   ]
  },
  {
   "cell_type": "code",
   "execution_count": 65,
   "metadata": {
    "slideshow": {
     "slide_type": "slide"
    },
    "tags": [
     "to_remove"
    ]
   },
   "outputs": [
    {
     "data": {
      "text/plain": [
       "<AxesSubplot:ylabel='disease'>"
      ]
     },
     "execution_count": 65,
     "metadata": {},
     "output_type": "execute_result"
    },
    {
     "data": {
      "image/png": "[encoded data removed]",
      "text/plain": [
       "<Figure size 576x576 with 1 Axes>"
      ]
     },
     "metadata": {
      "needs_background": "light"
     },
     "output_type": "display_data"
    }
   ],
   "source": [
    "\n",
    "disease_and_deaths_df.plot.barh(x = 'disease', y = 'death', figsize=(8, 8))"
   ]
  },
  {
   "cell_type": "markdown",
   "metadata": {
    "slideshow": {
     "slide_type": "fragment"
    }
   },
   "source": [
    "<ul>\n",
    "<li>The highest number of death was due to <b>Heart Diseases</b> and <b>Malignant Neoplasms</b> which is <b>Cancer</b>.</li>\n",
    "    \n",
    "<li>Another thing that surprised me is that the total death cases due to diabetes is 492238 which is too low if compared to Heart diseases and cencer although there are a lot of patients that suffer from diabetes (about 422 millions) than those who suffer from Heart diseases or Cancer (According to WHO)</li>\n",
    "    \n",
    "<li>The number of Peaple who died due to drug overdose is greater than those who died due to Motor Vehicle Accident, Suicide, Homocide and some respiatory system diseases so it is really important for health care providers to give due care to this point.</li>\n",
    "</ul>"
   ]
  },
  {
   "cell_type": "code",
   "execution_count": 66,
   "metadata": {
    "slideshow": {
     "slide_type": "slide"
    },
    "tags": [
     "to_remove"
    ]
   },
   "outputs": [
    {
     "data": {
      "text/plain": [
       "<AxesSubplot:title={'center':'Diseases And Death'}, ylabel='death'>"
      ]
     },
     "execution_count": 66,
     "metadata": {},
     "output_type": "execute_result"
    },
    {
     "data": {
      "image/png": "[encoded data removed]",
      "text/plain": [
       "<Figure size 576x576 with 1 Axes>"
      ]
     },
     "metadata": {},
     "output_type": "display_data"
    }
   ],
   "source": [
    "# pie cart to do the samething\n",
    "disease_and_deaths_df.plot.pie(x = 'disease', y = 'death', figsize=(8, 8), title=\"Diseases And Death\")"
   ]
  },
  {
   "cell_type": "code",
   "execution_count": 44,
   "metadata": {
    "slideshow": {
     "slide_type": "skip"
    }
   },
   "outputs": [
    {
     "data": {
      "text/plain": [
       "array([2014, 2015, 2016, 2017, 2018, 2019])"
      ]
     },
     "execution_count": 44,
     "metadata": {},
     "output_type": "execute_result"
    }
   ],
   "source": [
    "years = df[\"Year\"].unique()\n",
    "years"
   ]
  },
  {
   "cell_type": "code",
   "execution_count": 45,
   "metadata": {
    "slideshow": {
     "slide_type": "skip"
    }
   },
   "outputs": [
    {
     "data": {
      "text/plain": [
       "[2626418, 2712630, 2744248, 2813503, 2839205, 2854838]"
      ]
     },
     "execution_count": 45,
     "metadata": {},
     "output_type": "execute_result"
    }
   ],
   "source": [
    "years_all_sums = []\n",
    "for year in years:\n",
    "    all_cases = df[df[\"Year\"] == year][\"All Cause\"].sum()\n",
    "    years_all_sums .append(all_cases)\n",
    "years_all_sums"
   ]
  },
  {
   "cell_type": "code",
   "execution_count": 46,
   "metadata": {
    "slideshow": {
     "slide_type": "slide"
    },
    "tags": [
     "to_remove"
    ]
   },
   "outputs": [
    {
     "data": {
      "text/plain": [
       "<AxesSubplot:title={'center':'The number of death cases due to diseases over years'}, xlabel='year'>"
      ]
     },
     "execution_count": 46,
     "metadata": {},
     "output_type": "execute_result"
    },
    {
     "data": {
      "image/png": "[encoded data removed]",
      "text/plain": [
       "<Figure size 432x288 with 1 Axes>"
      ]
     },
     "metadata": {
      "needs_background": "light"
     },
     "output_type": "display_data"
    }
   ],
   "source": [
    "years_and_deaths_df = pd.DataFrame({'year':years, 'death':years_all_sums})\n",
    "years_and_deaths_df.plot.bar(x='year', y='death', title='The number of death cases due to diseases over years')"
   ]
  },
  {
   "cell_type": "markdown",
   "metadata": {
    "slideshow": {
     "slide_type": "fragment"
    }
   },
   "source": [
    "**We can say that the death rate is slightly growing.**"
   ]
  },
  {
   "cell_type": "code",
   "execution_count": 47,
   "metadata": {
    "slideshow": {
     "slide_type": "skip"
    }
   },
   "outputs": [
    {
     "data": {
      "text/plain": [
       "[591700, 595930, 598038, 599108, 599274, 599601]"
      ]
     },
     "execution_count": 47,
     "metadata": {},
     "output_type": "execute_result"
    }
   ],
   "source": [
    "# let's now chase some specific diseases over the five years\n",
    "# I will start with Cancer\n",
    "years = df[\"Year\"].unique()\n",
    "def disease_over_years(disease):\n",
    "    disease_over_years = []\n",
    "    for year in years:\n",
    "        total = df[df[\"Year\"] == year][disease].sum()\n",
    "        disease_over_years.append(total)\n",
    "    return disease_over_years\n",
    "\n",
    "cancer_over_years = disease_over_years(\"Malignant Neoplasms\")\n",
    "cancer_over_years"
   ]
  },
  {
   "cell_type": "code",
   "execution_count": 48,
   "metadata": {
    "slideshow": {
     "slide_type": "slide"
    },
    "tags": [
     "to_remove"
    ]
   },
   "outputs": [
    {
     "data": {
      "text/plain": [
       "<AxesSubplot:title={'center':'Cancer Over The Last Five years'}, xlabel='year'>"
      ]
     },
     "execution_count": 48,
     "metadata": {},
     "output_type": "execute_result"
    },
    {
     "data": {
      "image/png": "[encoded data removed]",
      "text/plain": [
       "<Figure size 432x288 with 1 Axes>"
      ]
     },
     "metadata": {
      "needs_background": "light"
     },
     "output_type": "display_data"
    }
   ],
   "source": [
    "cancer_over_years = np.array(cancer_over_years)\n",
    "cancer_over_years_df = pd.DataFrame({'year':years, 'number of death cases':cancer_over_years})\n",
    "\n",
    "cancer_over_years_df.plot.bar(x = \"year\", y='number of death cases', title='Cancer Over The Last Five years')"
   ]
  },
  {
   "cell_type": "markdown",
   "metadata": {
    "slideshow": {
     "slide_type": "fragment"
    }
   },
   "source": [
    "**Also there is a slight growth in death rate due to cancerious tumours**  "
   ]
  },
  {
   "cell_type": "code",
   "execution_count": 49,
   "metadata": {
    "slideshow": {
     "slide_type": "skip"
    }
   },
   "outputs": [
    {
     "data": {
      "text/plain": [
       "[614348, 633842, 635260, 647457, 655381, 659041]"
      ]
     },
     "execution_count": 49,
     "metadata": {},
     "output_type": "execute_result"
    }
   ],
   "source": [
    "## Let us now chase Heart diseases\n",
    "\n",
    "heart_over_years = disease_over_years('Diseases of Heart')\n",
    "heart_over_years"
   ]
  },
  {
   "cell_type": "code",
   "execution_count": 50,
   "metadata": {
    "slideshow": {
     "slide_type": "slide"
    },
    "tags": [
     "to_remove"
    ]
   },
   "outputs": [
    {
     "data": {
      "text/plain": [
       "<AxesSubplot:xlabel='year'>"
      ]
     },
     "execution_count": 50,
     "metadata": {},
     "output_type": "execute_result"
    },
    {
     "data": {
      "image/png": "[encoded data removed]",
      "text/plain": [
       "<Figure size 432x288 with 1 Axes>"
      ]
     },
     "metadata": {
      "needs_background": "light"
     },
     "output_type": "display_data"
    }
   ],
   "source": [
    "heart_over_years_df = pd.DataFrame({'year':years, 'number of death cases':heart_over_years})\n",
    "heart_over_years_df.plot.bar(x='year', y='number of death cases')"
   ]
  },
  {
   "cell_type": "markdown",
   "metadata": {
    "slideshow": {
     "slide_type": "slide"
    }
   },
   "source": [
    "**Same thing here, but the growth in death rate is slightly greater than cancer**"
   ]
  },
  {
   "cell_type": "markdown",
   "metadata": {
    "slideshow": {
     "slide_type": "slide"
    }
   },
   "source": [
    "# Conslusions"
   ]
  },
  {
   "cell_type": "markdown",
   "metadata": {
    "slideshow": {
     "slide_type": "slide"
    }
   },
   "source": [
    "<ul>\n",
    "<li>The highest number of death was due to **Heart Diseases** and **Malignant Neoplasms** which is **Cancer**.</li>\n",
    "    \n",
    "<li>Another thing that surprised me is that the total death cases due to diabetes is 492238 which is too low if compared to Heart diseases and cencer although there are a lot of patients that suffer from diabetes (about 422 millions) than those who suffer from Heart diseases or Cancer (According to WHO)</li>\n",
    "    \n",
    "<li>The number of Peaple who died due to drug overdose is greater than those who died due to Motor Vehicle Accident, Suicide, Homocide and some respiatory system diseases so it is really important for health care providers to give due care to this point.</li>\n",
    "  \n",
    "<li> There is a slight growth in the number of death cases in general and duo to Heart diseases and Cancer in particular.</li>\n",
    "\n",
    "<li>It is normal that the greatest number of peaple died due to natural causes but we are interested in diseases</li>\n",
    "\n",
    "<li>275012 people died due to Suicide so, we should extert more effort in psycology to reduce this number</li>\n",
    "    \n",
    "<li>Also There are 232224 people died because of road accidents so adopting AI and self-drivng cars , I think, will help reduce this number and save many people from death.\n",
    "</ul>"
   ]
  },
  {
   "cell_type": "code",
   "execution_count": 51,
   "metadata": {
    "slideshow": {
     "slide_type": "skip"
    }
   },
   "outputs": [
    {
     "name": "stdout",
     "output_type": "stream",
     "text": [
      "[NbConvertApp] WARNING | pattern 'Your_Slide_Deck_Name.ipynb--to' matched no files\r\n",
      "[NbConvertApp] WARNING | pattern 'slides' matched no files\r\n",
      "This application is used to convert notebook files (*.ipynb) to various other\r\n",
      "formats.\r\n",
      "\r\n",
      "WARNING: THE COMMANDLINE INTERFACE MAY CHANGE IN FUTURE RELEASES.\r\n",
      "\r\n",
      "Options\r\n",
      "=======\r\n",
      "The options below are convenience aliases to configurable class-options,\r\n",
      "as listed in the \"Equivalent to\" description-line of the aliases.\r\n",
      "To see all configurable class-options for some <cmd>, use:\r\n",
      "    <cmd> --help-all\r\n",
      "\r\n",
      "--debug\r\n",
      "    set log level to logging.DEBUG (maximize logging output)\r\n",
      "    Equivalent to: [--Application.log_level=10]\r\n",
      "--generate-config\r\n",
      "    generate default config file\r\n",
      "    Equivalent to: [--JupyterApp.generate_config=True]\r\n",
      "-y\r\n",
      "    Answer yes to any questions instead of prompting.\r\n",
      "    Equivalent to: [--JupyterApp.answer_yes=True]\r\n",
      "--execute\r\n",
      "    Execute the notebook prior to export.\r\n",
      "    Equivalent to: [--ExecutePreprocessor.enabled=True]\r\n",
      "--allow-errors\r\n",
      "    Continue notebook execution even if one of the cells throws an error and include the error message in the cell output (the default behaviour is to abort conversion). This flag is only relevant if '--execute' was specified, too.\r\n",
      "    Equivalent to: [--ExecutePreprocessor.allow_errors=True]\r\n",
      "--stdin\r\n",
      "    read a single notebook file from stdin. Write the resulting notebook with default basename 'notebook.*'\r\n",
      "    Equivalent to: [--NbConvertApp.from_stdin=True]\r\n",
      "--stdout\r\n",
      "    Write notebook output to stdout instead of files.\r\n",
      "    Equivalent to: [--NbConvertApp.writer_class=StdoutWriter]\r\n",
      "--inplace\r\n",
      "    Run nbconvert in place, overwriting the existing notebook (only \r\n",
      "    relevant when converting to notebook format)\r\n",
      "    Equivalent to: [--NbConvertApp.use_output_suffix=False --NbConvertApp.export_format=notebook --FilesWriter.build_directory=]\r\n",
      "--clear-output\r\n",
      "    Clear output of current file and save in place, \r\n",
      "    overwriting the existing notebook.\r\n",
      "    Equivalent to: [--NbConvertApp.use_output_suffix=False --NbConvertApp.export_format=notebook --FilesWriter.build_directory= --ClearOutputPreprocessor.enabled=True]\r\n",
      "--no-prompt\r\n",
      "    Exclude input and output prompts from converted document.\r\n",
      "    Equivalent to: [--TemplateExporter.exclude_input_prompt=True --TemplateExporter.exclude_output_prompt=True]\r\n",
      "--no-input\r\n",
      "    Exclude input cells and output prompts from converted document. \r\n",
      "    This mode is ideal for generating code-free reports.\r\n",
      "    Equivalent to: [--TemplateExporter.exclude_output_prompt=True --TemplateExporter.exclude_input=True]\r\n",
      "--allow-chromium-download\r\n",
      "    Whether to allow downloading chromium if no suitable version is found on the system.\r\n",
      "    Equivalent to: [--WebPDFExporter.allow_chromium_download=True]\r\n",
      "--log-level=<Enum>\r\n",
      "    Set the log level by value or name.\r\n",
      "    Choices: any of [0, 10, 20, 30, 40, 50, 'DEBUG', 'INFO', 'WARN', 'ERROR', 'CRITICAL']\r\n",
      "    Default: 30\r\n",
      "    Equivalent to: [--Application.log_level]\r\n",
      "--config=<Unicode>\r\n",
      "    Full path of a config file.\r\n",
      "    Default: ''\r\n",
      "    Equivalent to: [--JupyterApp.config_file]\r\n",
      "--to=<Unicode>\r\n",
      "    The export format to be used, either one of the built-in formats\r\n",
      "    ['asciidoc', 'custom', 'html', 'latex', 'markdown', 'notebook', 'pdf',\r\n",
      "    'python', 'rst', 'script', 'slides', 'webpdf'] or a dotted object name that\r\n",
      "    represents the import path for an `Exporter` class\r\n",
      "    Default: ''\r\n",
      "    Equivalent to: [--NbConvertApp.export_format]\r\n",
      "--template=<Unicode>\r\n",
      "    Name of the template to use\r\n",
      "    Default: ''\r\n",
      "    Equivalent to: [--TemplateExporter.template_name]\r\n",
      "--template-file=<Unicode>\r\n",
      "    Name of the template file to use\r\n",
      "    Default: None\r\n",
      "    Equivalent to: [--TemplateExporter.template_file]\r\n",
      "--writer=<DottedObjectName>\r\n",
      "    Writer class used to write the  results of the conversion\r\n",
      "    Default: 'FilesWriter'\r\n",
      "    Equivalent to: [--NbConvertApp.writer_class]\r\n",
      "--post=<DottedOrNone>\r\n",
      "    PostProcessor class used to write the results of the conversion\r\n",
      "    Default: ''\r\n",
      "    Equivalent to: [--NbConvertApp.postprocessor_class]\r\n",
      "--output=<Unicode>\r\n",
      "    overwrite base name use for output files. can only be used when converting\r\n",
      "    one notebook at a time.\r\n",
      "    Default: ''\r\n",
      "    Equivalent to: [--NbConvertApp.output_base]\r\n",
      "--output-dir=<Unicode>\r\n",
      "    Directory to write output(s) to. Defaults to output to the directory of each\r\n",
      "    notebook. To recover previous default behaviour (outputting to the current\r\n",
      "    working directory) use . as the flag value.\r\n",
      "    Default: ''\r\n",
      "    Equivalent to: [--FilesWriter.build_directory]\r\n",
      "--reveal-prefix=<Unicode>\r\n",
      "    The URL prefix for reveal.js (version 3.x). This defaults to the reveal CDN,\r\n",
      "    but can be any url pointing to a copy  of reveal.js.\r\n",
      "    For speaker notes to work, this must be a relative path to a local  copy of\r\n",
      "    reveal.js: e.g., \"reveal.js\".\r\n",
      "    If a relative path is given, it must be a subdirectory of the current\r\n",
      "    directory (from which the server is run).\r\n",
      "    See the usage documentation\r\n",
      "    (https://nbconvert.readthedocs.io/en/latest/usage.html#reveal-js-html-\r\n",
      "    slideshow) for more details.\r\n",
      "    Default: ''\r\n",
      "    Equivalent to: [--SlidesExporter.reveal_url_prefix]\r\n",
      "--nbformat=<Enum>\r\n",
      "    The nbformat version to write. Use this to downgrade notebooks.\r\n",
      "    Choices: any of [1, 2, 3, 4]\r\n",
      "    Default: 4\r\n",
      "    Equivalent to: [--NotebookExporter.nbformat_version]\r\n",
      "\r\n",
      "Examples\r\n",
      "--------\r\n",
      "\r\n",
      "    The simplest way to use nbconvert is\r\n",
      "    \r\n",
      "    > jupyter nbconvert mynotebook.ipynb --to html\r\n",
      "    \r\n",
      "    Options include ['asciidoc', 'custom', 'html', 'latex', 'markdown', 'notebook', 'pdf', 'python', 'rst', 'script', 'slides', 'webpdf'].\r\n",
      "    \r\n",
      "    > jupyter nbconvert --to latex mynotebook.ipynb\r\n",
      "    \r\n",
      "    Both HTML and LaTeX support multiple output templates. LaTeX includes\r\n",
      "    'base', 'article' and 'report'.  HTML includes 'basic' and 'full'. You\r\n",
      "    can specify the flavor of the format used.\r\n",
      "    \r\n",
      "    > jupyter nbconvert --to html --template lab mynotebook.ipynb\r\n",
      "    \r\n",
      "    You can also pipe the output to stdout, rather than a file\r\n",
      "    \r\n",
      "    > jupyter nbconvert mynotebook.ipynb --stdout\r\n",
      "    \r\n",
      "    PDF is generated via latex\r\n",
      "    \r\n",
      "    > jupyter nbconvert mynotebook.ipynb --to pdf\r\n",
      "    \r\n",
      "    You can get (and serve) a Reveal.js-powered slideshow\r\n",
      "    \r\n",
      "    > jupyter nbconvert myslides.ipynb --to slides --post serve\r\n",
      "    \r\n",
      "    Multiple notebooks can be given at the command line in a couple of \r\n",
      "    different ways:\r\n",
      "    \r\n",
      "    > jupyter nbconvert notebook*.ipynb\r\n",
      "    > jupyter nbconvert notebook1.ipynb notebook2.ipynb\r\n",
      "    \r\n",
      "    or you can specify the notebooks list in a config file, containing::\r\n",
      "    \r\n",
      "        c.NbConvertApp.notebooks = [\"my_notebook.ipynb\"]\r\n",
      "    \r\n",
      "    > jupyter nbconvert --config mycfg.py\r\n",
      "\r\n",
      "To see all available configurables, use `--help-all`.\r\n",
      "\r\n"
     ]
    }
   ],
   "source": [
    "!jupyter nbconvert Your_Slide_Deck_Name.ipynb--to slides --post serve  --no-input --no-prompt"
   ]
  },
  {
   "cell_type": "code",
   "execution_count": null,
   "metadata": {
    "slideshow": {
     "slide_type": "skip"
    }
   },
   "outputs": [],
   "source": []
  }
 ],
 "metadata": {
  "celltoolbar": "Slideshow",
  "kernelspec": {
   "display_name": "Python 3.8",
   "language": "python",
   "name": "python3"
  },
  "language_info": {
   "codemirror_mode": {
    "name": "ipython",
    "version": 3
   },
   "file_extension": ".py",
   "mimetype": "text/x-python",
   "name": "python",
   "nbconvert_exporter": "python",
   "pygments_lexer": "ipython3",
   "version": "3.8.11"
  }
 },
 "nbformat": 4,
 "nbformat_minor": 1
}
